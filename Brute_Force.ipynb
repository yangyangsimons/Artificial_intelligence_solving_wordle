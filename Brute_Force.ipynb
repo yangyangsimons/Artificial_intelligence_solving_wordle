{
 "cells": [
  {
   "cell_type": "code",
   "execution_count": 12,
   "metadata": {},
   "outputs": [],
   "source": [
    "import Wordle_Simulation as ws\n",
    "import Data_Processing as data\n",
    "from string import ascii_lowercase"
   ]
  },
  {
   "cell_type": "code",
   "execution_count": 28,
   "metadata": {},
   "outputs": [],
   "source": [
    "# calculate the frequency of all(26) letters\n",
    "def __Calculate_Frequency__(wordList):\n",
    "    str = \"\".join(wordList)\n",
    "    tempFrequency = {}\n",
    "    totalNumberStr = len(str)\n",
    "    for i in ascii_lowercase:\n",
    "        tempFrequency[i] = round(str.count(i)/totalNumberStr,4)\n",
    "\n",
    "    frequency = sorted(tempFrequency.items(), key = lambda x:x[1],reverse=True)\n",
    "    print(frequency)\n",
    "    frequencyLetter = \"\"\n",
    "    for i in range(len(frequency)):\n",
    "        frequencyLetter = frequencyLetter + frequency[i][0]\n",
    "    return frequencyLetter"
   ]
  },
  {
   "cell_type": "code",
   "execution_count": 38,
   "metadata": {},
   "outputs": [
    {
     "name": "stdout",
     "output_type": "stream",
     "text": [
      "[('e', 0.1028), ('s', 0.1027), ('a', 0.0924), ('o', 0.0684), ('r', 0.0642), ('i', 0.0579), ('l', 0.052), ('t', 0.0508), ('n', 0.0455), ('u', 0.0387), ('d', 0.0378), ('y', 0.0319), ('c', 0.0312), ('p', 0.0311), ('m', 0.0305), ('h', 0.0271), ('g', 0.0253), ('b', 0.0251), ('k', 0.0231), ('f', 0.0172), ('w', 0.016), ('v', 0.0107), ('z', 0.0067), ('j', 0.0045), ('x', 0.0044), ('q', 0.0017)]\n",
      "esaoriltnudycpmhgbkfwvzjxq\n"
     ]
    }
   ],
   "source": [
    "sortedLetters = __Calculate_Frequency__(data.valid_word_list)\n",
    "print(sortedLetters)"
   ]
  },
  {
   "cell_type": "code",
   "execution_count": 40,
   "metadata": {},
   "outputs": [
    {
     "name": "stdout",
     "output_type": "stream",
     "text": [
      "aeors\n",
      "aeros\n"
     ]
    }
   ],
   "source": [
    "# Choose the five most frequently occurring letters\n",
    "selected_word = \"\"\n",
    "for i in range(5):\n",
    "    selected_word = selected_word + sortedLetters[i]\n",
    "selected_word = \"\".join(sorted(selected_word))\n",
    "# print(selected_word)\n",
    "if(selected_word in data.sorted_word_list):\n",
    "    index = data.sorted_word_list.index(selected_word)\n",
    "    print(data.valid_word_list[index])\n",
    "else:\n",
    "    "
   ]
  }
 ],
 "metadata": {
  "interpreter": {
   "hash": "6ec95552a5c4b0beabfc8353e76121349e0f83cd731836c7406f22566a01da8d"
  },
  "kernelspec": {
   "display_name": "Python 3.10.0 ('DIA')",
   "language": "python",
   "name": "python3"
  },
  "language_info": {
   "codemirror_mode": {
    "name": "ipython",
    "version": 3
   },
   "file_extension": ".py",
   "mimetype": "text/x-python",
   "name": "python",
   "nbconvert_exporter": "python",
   "pygments_lexer": "ipython3",
   "version": "3.10.0"
  },
  "orig_nbformat": 4
 },
 "nbformat": 4,
 "nbformat_minor": 2
}
