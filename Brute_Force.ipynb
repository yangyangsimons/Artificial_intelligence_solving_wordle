{
 "cells": [
  {
   "cell_type": "code",
   "execution_count": null,
   "metadata": {},
   "outputs": [],
   "source": [
    "import Wordle_Simulation as ws\n",
    "import Data_Processing as data\n",
    "from string import ascii_lowercase\n",
    "import random"
   ]
  },
  {
   "cell_type": "code",
   "execution_count": null,
   "metadata": {},
   "outputs": [],
   "source": [
    "# calculate the frequency of all(26) letters\n",
    "def __Calculate_Frequency__(wordList):\n",
    "    str = \"\".join(wordList)\n",
    "    tempFrequency = {}\n",
    "    totalNumberStr = len(str)\n",
    "    for i in ascii_lowercase:\n",
    "        tempFrequency[i] = round(str.count(i)/totalNumberStr, 4)\n",
    "    return tempFrequency\n"
   ]
  },
  {
   "cell_type": "code",
   "execution_count": null,
   "metadata": {},
   "outputs": [],
   "source": [
    "# Choose the five most frequently occurring letters\n",
    "def __Select_Word__(letter_frequency,word_List):\n",
    "    word_Frequency_List = []\n",
    "    for word in word_List:\n",
    "        wordFrequency = 0\n",
    "        for i in range(len(word)):\n",
    "            wordFrequency = wordFrequency + letter_frequency[word[i]]       \n",
    "        word_Frequency_List.append(wordFrequency)\n",
    "    selectedWord = word_List[word_Frequency_List.index(max(word_Frequency_List))]\n",
    "    return selectedWord"
   ]
  },
  {
   "cell_type": "code",
   "execution_count": null,
   "metadata": {},
   "outputs": [],
   "source": [
    "#recalculate the word frequency based on the result\n",
    "def __Set__New__Word__List__(selectedWord,feedback,word_list):\n",
    "    yellow_dic = {}\n",
    "    green_dic = {}\n",
    "    grey_dic = {}\n",
    "    for i in range(len(feedback)):\n",
    "        if(feedback[i] == \"yellow\"):\n",
    "            yellow_dic.update({i:selectedWord[i]})\n",
    "        if(feedback[i] == \"green\"):\n",
    "            green_dic.update({i:selectedWord[i]})\n",
    "        if(feedback[i] == \"grey\"):\n",
    "            grey_dic.update({i:selectedWord[i]})\n",
    "    # calculate the new valid word list based on the feedback\n",
    "    new_valid_list = []\n",
    "    for word in word_list:\n",
    "        letter_status = []\n",
    "        for index,letter in yellow_dic.items():\n",
    "            if(word.find(letter) != -1 and word[index] != letter):\n",
    "                letter_status.append(True)\n",
    "            else:\n",
    "                letter_status.append(False)\n",
    "        for index in green_dic.keys():\n",
    "            if(word[index] == green_dic[index]):\n",
    "                letter_status.append(True)\n",
    "            else:\n",
    "                letter_status.append(False)\n",
    "        for index,letter in grey_dic.items():\n",
    "            if(word.find(letter) == -1):\n",
    "                letter_status.append(True)\n",
    "            else:\n",
    "                if(letter in yellow_dic.values() or letter in green_dic.values() and word[index] != letter):\n",
    "                    letter_status.append(True)\n",
    "                else:\n",
    "                    letter_status.append(False)\n",
    "        if(all(letter_status)):\n",
    "            new_valid_list.append(word)\n",
    "            continue\n",
    "        else:\n",
    "            continue\n",
    "    return new_valid_list"
   ]
  },
  {
   "cell_type": "code",
   "execution_count": null,
   "metadata": {},
   "outputs": [],
   "source": [
    "successCount = 0"
   ]
  },
  {
   "cell_type": "code",
   "execution_count": null,
   "metadata": {},
   "outputs": [],
   "source": [
    "for i in range(len(data.test_word_list)):\n",
    "    objectWord = ObjectWord = random.choice(data.test_word_list)\n",
    "    # word_list = data.valid_word_list\n",
    "    # letterFrequency = __Calculate_Frequency__(word_list)\n",
    "    # # print(sortedLettersBasedOnFrequency)\n",
    "    # selectedWord= __Select_Word__(letterFrequency,word_list)\n",
    "    # # print(selectedWord)\n",
    "    # # print(objectWord)\n",
    "    # guessResult = ws.__feedback__(selectedWord,objectWord)\n",
    "    # # print(guessResult)\n",
    "    # if(guessResult == [\"green\",\"green\",\"green\",\"green\",\"green\"]):\n",
    "    #     # print(\"success\")\n",
    "    #     print(selectedWord +\" \" + objectWord)\n",
    "    #     successCount = successCount + 1\n",
    "    #     break\n",
    "\n",
    "    for i in range(6):\n",
    "        if( i == 0):\n",
    "            word_list = data.valid_word_list\n",
    "        else:\n",
    "            word_list  = __Set__New__Word__List__(selectedWord,guessResult,word_list)\n",
    "        # print(len(word_list))\n",
    "        letterFrequency = __Calculate_Frequency__(word_list)\n",
    "        # print(sortedLettersBasedOnFrequency)\n",
    "        selectedWord = __Select_Word__(letterFrequency,word_list)\n",
    "        print(selectedWord)\n",
    "        # print(selectedWord)\n",
    "        # print(objectWord)\n",
    "        guessResult = ws.__feedback__(selectedWord,objectWord)\n",
    "        # print(guessResult)\n",
    "        if(guessResult == [\"green\",\"green\",\"green\",\"green\",\"green\"]):\n",
    "            successCount = successCount + 1\n",
    "            print(\"success\")\n",
    "            print(selectedWord +\" \" + objectWord)\n",
    "            break"
   ]
  },
  {
   "cell_type": "code",
   "execution_count": null,
   "metadata": {},
   "outputs": [],
   "source": [
    "print(successCount/len(data.test_word_list))"
   ]
  }
 ],
 "metadata": {
  "interpreter": {
   "hash": "46d134eb557ef08c609e980b92390e3083e10e9de6884d7d452b5ae8f92825d9"
  },
  "kernelspec": {
   "display_name": "Python 3.7.11 ('mle_tf')",
   "language": "python",
   "name": "python3"
  },
  "language_info": {
   "codemirror_mode": {
    "name": "ipython",
    "version": 3
   },
   "file_extension": ".py",
   "mimetype": "text/x-python",
   "name": "python",
   "nbconvert_exporter": "python",
   "pygments_lexer": "ipython3",
   "version": "3.7.11"
  },
  "orig_nbformat": 4
 },
 "nbformat": 4,
 "nbformat_minor": 2
}
