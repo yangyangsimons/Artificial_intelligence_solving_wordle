{
 "cells": [
  {
   "cell_type": "code",
   "execution_count": 1,
   "metadata": {},
   "outputs": [],
   "source": [
    "import Wordle_Simulation as ws\n",
    "import Data_Processing as data\n",
    "from string import ascii_lowercase"
   ]
  },
  {
   "cell_type": "code",
   "execution_count": 2,
   "metadata": {},
   "outputs": [],
   "source": [
    "# calculate the frequency of all(26) letters\n",
    "def __Calculate_Frequency__(wordList):\n",
    "    str = \"\".join(wordList)\n",
    "    tempFrequency = {}\n",
    "    totalNumberStr = len(str)\n",
    "    for i in ascii_lowercase:\n",
    "        tempFrequency[i] = round(str.count(i)/totalNumberStr, 4)\n",
    "\n",
    "    frequency = sorted(tempFrequency.items(), key=lambda x: x[1], reverse=True)\n",
    "    print(frequency)\n",
    "    frequencyLetter = \"\"\n",
    "    for i in range(len(frequency)):\n",
    "        frequencyLetter = frequencyLetter + frequency[i][0]\n",
    "    return frequencyLetter\n"
   ]
  },
  {
   "cell_type": "code",
   "execution_count": 3,
   "metadata": {},
   "outputs": [],
   "source": [
    "# Choose the five most frequently occurring letters\n",
    "def __Select_Word__(letterInFrequencyOrder):\n",
    "    selected_word_letter = []\n",
    "    selected_word=\"\"\n",
    "    if(len(letterInFrequencyOrder) <= 5):\n",
    "        print(letterInFrequencyOrder)\n",
    "        selected_word = letterInFrequencyOrder\n",
    "        return selected_word\n",
    "    else:\n",
    "        for i in range(5):\n",
    "            selected_word = selected_word + letterInFrequencyOrder[i]\n",
    "        selected_word = \"\".join(sorted(selected_word))\n",
    "        if(selected_word in data.sorted_word_list):\n",
    "            index = data.sorted_word_list.index(selected_word)\n",
    "            selected_word = data.valid_word_list[index]\n",
    "            # print(selected_word)\n",
    "        else:\n",
    "            newletterInFrequencyOrder = letterInFrequencyOrder[0:4] + letterInFrequencyOrder[5:len(letterInFrequencyOrder)]\n",
    "            __Select_Word__(newletterInFrequencyOrder)\n",
    "        return selected_word"
   ]
  },
  {
   "cell_type": "code",
   "execution_count": 4,
   "metadata": {},
   "outputs": [],
   "source": [
    "#recalculate the word frequency based on the result\n",
    "def __Set__New__Word__List__(selectedWord,feedback,word_list):\n",
    "    yellow_dic = {}\n",
    "    green_dic = {}\n",
    "    grey_dic = {}\n",
    "    for i in range(len(feedback)):\n",
    "        if(feedback[i] == \"yellow\"):\n",
    "            yellow_dic.update({i:selectedWord[i]})\n",
    "        if(feedback[i] == \"green\"):\n",
    "            green_dic.update({i:selectedWord[i]})\n",
    "        if(feedback[i] == \"grey\"):\n",
    "            grey_dic.update({i:selectedWord[i]})\n",
    "    # calculate the new valid word list based on the feedback\n",
    "    new_valid_list = []\n",
    "    for word in word_list:\n",
    "        letter_status = []\n",
    "        for letter in yellow_dic.values():\n",
    "            if(word.find(letter) != -1):\n",
    "                letter_status.append(True)\n",
    "            else:\n",
    "                letter_status.append(False)\n",
    "        for index in green_dic.keys():\n",
    "            if(word[index] == green_dic[index]):\n",
    "                letter_status.append(True)\n",
    "            else:\n",
    "                letter_status.append(False)\n",
    "        for letter in grey_dic.values():\n",
    "            if(word.find(letter) == -1):\n",
    "                letter_status.append(True)\n",
    "            else:\n",
    "                letter_status.append(False)\n",
    "        if(all(letter_status)):\n",
    "            new_valid_list.append(word)\n",
    "            continue\n",
    "        else:\n",
    "            continue\n",
    "    return new_valid_list"
   ]
  },
  {
   "cell_type": "code",
   "execution_count": 12,
   "metadata": {},
   "outputs": [
    {
     "name": "stdout",
     "output_type": "stream",
     "text": [
      "[('e', 0.1028), ('s', 0.1027), ('a', 0.0924), ('o', 0.0684), ('r', 0.0642), ('i', 0.0579), ('l', 0.052), ('t', 0.0508), ('n', 0.0455), ('u', 0.0387), ('d', 0.0378), ('y', 0.0319), ('c', 0.0312), ('p', 0.0311), ('m', 0.0305), ('h', 0.0271), ('g', 0.0253), ('b', 0.0251), ('k', 0.0231), ('f', 0.0172), ('w', 0.016), ('v', 0.0107), ('z', 0.0067), ('j', 0.0045), ('x', 0.0044), ('q', 0.0017)]\n",
      "esaoriltnudycpmhgbkfwvzjxq\n",
      "aeros\n",
      "shown\n",
      "['grey', 'grey', 'grey', 'yellow', 'yellow']\n"
     ]
    }
   ],
   "source": [
    "word_list = data.valid_word_list\n",
    "sortedLettersBasedOnFrequency = __Calculate_Frequency__(word_list)\n",
    "print(sortedLettersBasedOnFrequency)\n",
    "selectedWord= __Select_Word__(sortedLettersBasedOnFrequency)\n",
    "print(selectedWord)\n",
    "print(ws.ObjectWord)\n",
    "guessResult = ws.__feedback__(selectedWord,ws.ObjectWord)\n",
    "print(guessResult)\n",
    "if(guessResult == [\"green\",\"green\",\"green\",\"green\",\"green\"]):\n",
    "    print(\"Right\")\n"
   ]
  },
  {
   "cell_type": "code",
   "execution_count": 14,
   "metadata": {},
   "outputs": [
    {
     "name": "stdout",
     "output_type": "stream",
     "text": [
      "1\n",
      "[('h', 0.2), ('n', 0.2), ('o', 0.2), ('s', 0.2), ('w', 0.2), ('a', 0.0), ('b', 0.0), ('c', 0.0), ('d', 0.0), ('e', 0.0), ('f', 0.0), ('g', 0.0), ('i', 0.0), ('j', 0.0), ('k', 0.0), ('l', 0.0), ('m', 0.0), ('p', 0.0), ('q', 0.0), ('r', 0.0), ('t', 0.0), ('u', 0.0), ('v', 0.0), ('x', 0.0), ('y', 0.0), ('z', 0.0)]\n",
      "hnoswabcdefgijklmpqrtuvxyz\n",
      "shown\n",
      "shown\n",
      "['green', 'green', 'green', 'green', 'green']\n",
      "success\n"
     ]
    }
   ],
   "source": [
    "result = False\n",
    "for i in range(4):\n",
    "    word_list  = __Set__New__Word__List__(selectedWord,guessResult,word_list)\n",
    "    print(len(word_list))\n",
    "    sortedLettersBasedOnFrequency = __Calculate_Frequency__(word_list)\n",
    "    print(sortedLettersBasedOnFrequency)\n",
    "    selectedWord = __Select_Word__(sortedLettersBasedOnFrequency)\n",
    "    print(selectedWord)\n",
    "    print(ws.ObjectWord)\n",
    "    guessResult = ws.__feedback__(selectedWord,ws.ObjectWord)\n",
    "    print(guessResult)\n",
    "    if(guessResult == [\"green\",\"green\",\"green\",\"green\",\"green\"]):\n",
    "        print(\"success\")\n",
    "        result = True\n",
    "        break"
   ]
  },
  {
   "cell_type": "code",
   "execution_count": 49,
   "metadata": {},
   "outputs": [
    {
     "name": "stdout",
     "output_type": "stream",
     "text": [
      "49\n",
      "[('o', 0.2571), ('s', 0.2327), ('l', 0.2), ('g', 0.0449), ('p', 0.0449), ('b', 0.0408), ('c', 0.0367), ('f', 0.0327), ('w', 0.0286), ('d', 0.0245), ('i', 0.0122), ('m', 0.0122), ('k', 0.0082), ('v', 0.0082), ('y', 0.0082), ('h', 0.0041), ('u', 0.0041), ('a', 0.0), ('e', 0.0), ('j', 0.0), ('n', 0.0), ('q', 0.0), ('r', 0.0), ('t', 0.0), ('x', 0.0), ('z', 0.0)]\n",
      "oslgpbcfwdimkvyhuaejnqrtxz\n",
      "glops\n",
      "floss\n",
      "['grey', 'green', 'green', 'grey', 'green']\n"
     ]
    }
   ],
   "source": [
    "# new_valid_list  = __Set__New__Word__List__(newselectedword,newResult,new_valid_list)\n",
    "# print(len(new_valid_list))\n",
    "# newFrequency = __Calculate_Frequency__(new_valid_list)\n",
    "# print(newFrequency)\n",
    "# newselectedword = __Select_Word__(newFrequency)\n",
    "# print(newselectedword)\n",
    "# print(ws.ObjectWord)\n",
    "# newResult = ws.__feedback__(newselectedword,ws.ObjectWord)\n",
    "# print(newResult)"
   ]
  },
  {
   "cell_type": "code",
   "execution_count": 50,
   "metadata": {},
   "outputs": [
    {
     "name": "stdout",
     "output_type": "stream",
     "text": [
      "13\n",
      "[('s', 0.2462), ('l', 0.2), ('o', 0.2), ('b', 0.0923), ('c', 0.0923), ('f', 0.0615), ('w', 0.0615), ('d', 0.0154), ('u', 0.0154), ('y', 0.0154), ('a', 0.0), ('e', 0.0), ('g', 0.0), ('h', 0.0), ('i', 0.0), ('j', 0.0), ('k', 0.0), ('m', 0.0), ('n', 0.0), ('p', 0.0), ('q', 0.0), ('r', 0.0), ('t', 0.0), ('v', 0.0), ('x', 0.0), ('z', 0.0)]\n",
      "slobcfwduyaeghijkmnpqrtvxz\n",
      "blocs\n",
      "floss\n",
      "['grey', 'green', 'green', 'grey', 'green']\n"
     ]
    }
   ],
   "source": [
    "# new_valid_list  = __Set__New__Word__List__(newselectedword,newResult,new_valid_list)\n",
    "# print(len(new_valid_list))\n",
    "# newFrequency = __Calculate_Frequency__(new_valid_list)\n",
    "# print(newFrequency)\n",
    "# newselectedword = __Select_Word__(newFrequency)\n",
    "# print(newselectedword)\n",
    "# print(ws.ObjectWord)\n",
    "# newResult = ws.__feedback__(newselectedword,ws.ObjectWord)\n",
    "# print(newResult)"
   ]
  },
  {
   "cell_type": "code",
   "execution_count": 51,
   "metadata": {},
   "outputs": [
    {
     "name": "stdout",
     "output_type": "stream",
     "text": [
      "['floss', 'flows', 'slows']\n",
      "3\n",
      "[('s', 0.3333), ('l', 0.2), ('o', 0.2), ('f', 0.1333), ('w', 0.1333), ('a', 0.0), ('b', 0.0), ('c', 0.0), ('d', 0.0), ('e', 0.0), ('g', 0.0), ('h', 0.0), ('i', 0.0), ('j', 0.0), ('k', 0.0), ('m', 0.0), ('n', 0.0), ('p', 0.0), ('q', 0.0), ('r', 0.0), ('t', 0.0), ('u', 0.0), ('v', 0.0), ('x', 0.0), ('y', 0.0), ('z', 0.0)]\n",
      "slofwabcdeghijkmnpqrtuvxyz\n",
      "flows\n",
      "floss\n",
      "['green', 'green', 'green', 'grey', 'green']\n"
     ]
    }
   ],
   "source": [
    "# new_valid_list = __Set__New__Word__List__(newselectedword,newResult,new_valid_list)\n",
    "# print(new_valid_list)\n",
    "# print(len(new_valid_list))\n",
    "# newFrequency = __Calculate_Frequency__(new_valid_list)\n",
    "# print(newFrequency)\n",
    "# newselectedword = __Select_Word__(newFrequency)\n",
    "# print(newselectedword)\n",
    "# print(ws.ObjectWord)\n",
    "# newResult = ws.__feedback__(newselectedword,ws.ObjectWord)\n",
    "# print(newResult)"
   ]
  },
  {
   "cell_type": "code",
   "execution_count": 52,
   "metadata": {},
   "outputs": [
    {
     "name": "stdout",
     "output_type": "stream",
     "text": [
      "['floss']\n",
      "1\n",
      "[('s', 0.4), ('f', 0.2), ('l', 0.2), ('o', 0.2), ('a', 0.0), ('b', 0.0), ('c', 0.0), ('d', 0.0), ('e', 0.0), ('g', 0.0), ('h', 0.0), ('i', 0.0), ('j', 0.0), ('k', 0.0), ('m', 0.0), ('n', 0.0), ('p', 0.0), ('q', 0.0), ('r', 0.0), ('t', 0.0), ('u', 0.0), ('v', 0.0), ('w', 0.0), ('x', 0.0), ('y', 0.0), ('z', 0.0)]\n",
      "sfloabcdeghijkmnpqrtuvwxyz\n",
      "foals\n",
      "floss\n",
      "['green', 'yellow', 'grey', 'yellow', 'green']\n"
     ]
    }
   ],
   "source": [
    "# new_valid_list = __Set__New__Word__List__(newselectedword,newResult,new_valid_list)\n",
    "# print(new_valid_list)\n",
    "# print(len(new_valid_list))\n",
    "# newFrequency = __Calculate_Frequency__(new_valid_list)\n",
    "# print(newFrequency)\n",
    "# newselectedword = __Select_Word__(newFrequency)\n",
    "# print(newselectedword)\n",
    "# print(ws.ObjectWord)\n",
    "# newResult = ws.__feedback__(newselectedword,ws.ObjectWord)\n",
    "# print(newResult)"
   ]
  }
 ],
 "metadata": {
  "interpreter": {
   "hash": "6ec95552a5c4b0beabfc8353e76121349e0f83cd731836c7406f22566a01da8d"
  },
  "kernelspec": {
   "display_name": "Python 3.10.0 ('DIA')",
   "language": "python",
   "name": "python3"
  },
  "language_info": {
   "codemirror_mode": {
    "name": "ipython",
    "version": 3
   },
   "file_extension": ".py",
   "mimetype": "text/x-python",
   "name": "python",
   "nbconvert_exporter": "python",
   "pygments_lexer": "ipython3",
   "version": "3.10.0"
  },
  "orig_nbformat": 4
 },
 "nbformat": 4,
 "nbformat_minor": 2
}
