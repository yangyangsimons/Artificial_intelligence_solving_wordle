{
 "cells": [
  {
   "cell_type": "code",
   "execution_count": 8,
   "metadata": {},
   "outputs": [],
   "source": [
    "from Probabilities import __Calculate_Frequency__ as cf\n",
    "import Data_Processing as dp\n",
    "import matplotlib.pyplot as plt\n",
    "import numpy as np\n",
    "import pandas as pd"
   ]
  },
  {
   "cell_type": "code",
   "execution_count": 23,
   "metadata": {},
   "outputs": [
    {
     "name": "stdout",
     "output_type": "stream",
     "text": [
      "{'e': 0.1028, 's': 0.1027, 'a': 0.0924, 'o': 0.0684, 'r': 0.0642, 'i': 0.0579, 'l': 0.052, 't': 0.0508, 'n': 0.0455, 'u': 0.0387, 'd': 0.0378, 'y': 0.0319, 'c': 0.0312, 'p': 0.0311, 'm': 0.0305, 'h': 0.0271, 'g': 0.0253, 'b': 0.0251, 'k': 0.0231, 'f': 0.0172, 'w': 0.016, 'v': 0.0107, 'z': 0.0067, 'j': 0.0045, 'x': 0.0044, 'q': 0.0017}\n"
     ]
    },
    {
     "data": {
      "image/png": "[encoded data removed]",
      "text/plain": [
       "<Figure size 432x288 with 1 Axes>"
      ]
     },
     "metadata": {
      "needs_background": "light"
     },
     "output_type": "display_data"
    }
   ],
   "source": [
    "wordList = dp.valid_word_list\n",
    "frequency = cf(wordList)\n",
    "sortedFrequency = dict(sorted(frequency.items(), key=lambda item: item[1],reverse=True))\n",
    "print(sortedFrequency)\n",
    "plt.bar(sortedFrequency.keys(),sortedFrequency.values())\n",
    "plt.title(\"Letters' frequency distribution\",fontdict={\"fontname\":\"Calibri\"})\n",
    "plt.savefig('figures/frequency_distribution.jpg',dpi = 'figure')"
   ]
  }
 ],
 "metadata": {
  "interpreter": {
   "hash": "46d134eb557ef08c609e980b92390e3083e10e9de6884d7d452b5ae8f92825d9"
  },
  "kernelspec": {
   "display_name": "Python 3.7.11 ('mle_tf')",
   "language": "python",
   "name": "python3"
  },
  "language_info": {
   "codemirror_mode": {
    "name": "ipython",
    "version": 3
   },
   "file_extension": ".py",
   "mimetype": "text/x-python",
   "name": "python",
   "nbconvert_exporter": "python",
   "pygments_lexer": "ipython3",
   "version": "3.7.11"
  },
  "orig_nbformat": 4
 },
 "nbformat": 4,
 "nbformat_minor": 2
}
