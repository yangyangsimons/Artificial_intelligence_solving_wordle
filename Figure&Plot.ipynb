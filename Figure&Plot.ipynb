{
 "cells": [
  {
   "cell_type": "code",
   "execution_count": 18,
   "metadata": {},
   "outputs": [],
   "source": [
    "from Probabilities import __Calculate_Frequency__ as cf\n",
    "import InformationTheory\n",
    "import Wordle_Simulation as ws\n",
    "import Data_Processing as dp\n",
    "import matplotlib.pyplot as plt\n",
    "import numpy as np\n",
    "import math\n",
    "import pandas as pd"
   ]
  },
  {
   "cell_type": "markdown",
   "metadata": {},
   "source": [
    "### calculate the letter frequency distribution"
   ]
  },
  {
   "cell_type": "code",
   "execution_count": 2,
   "metadata": {},
   "outputs": [
    {
     "name": "stderr",
     "output_type": "stream",
     "text": [
      "findfont: Font family ['Calibri'] not found. Falling back to DejaVu Sans.\n"
     ]
    },
    {
     "name": "stdout",
     "output_type": "stream",
     "text": [
      "{'e': 0.1028, 's': 0.1027, 'a': 0.0924, 'o': 0.0684, 'r': 0.0642, 'i': 0.0579, 'l': 0.052, 't': 0.0508, 'n': 0.0455, 'u': 0.0387, 'd': 0.0378, 'y': 0.0319, 'c': 0.0312, 'p': 0.0311, 'm': 0.0305, 'h': 0.0271, 'g': 0.0253, 'b': 0.0251, 'k': 0.0231, 'f': 0.0172, 'w': 0.016, 'v': 0.0107, 'z': 0.0067, 'j': 0.0045, 'x': 0.0044, 'q': 0.0017}\n"
     ]
    },
    {
     "data": {
      "image/png": "[encoded data removed]",
      "text/plain": [
       "<Figure size 432x288 with 1 Axes>"
      ]
     },
     "metadata": {
      "needs_background": "light"
     },
     "output_type": "display_data"
    }
   ],
   "source": [
    "wordList = dp.valid_word_list\n",
    "frequency = cf(wordList)\n",
    "sortedFrequency = dict(sorted(frequency.items(), key=lambda item: item[1],reverse=True))\n",
    "print(sortedFrequency)\n",
    "plt.bar(sortedFrequency.keys(),sortedFrequency.values())\n",
    "plt.title(\"Letters' frequency distribution\",fontdict={\"fontname\":\"Calibri\"})\n",
    "plt.savefig('figures/frequency_distribution.jpg',dpi = 'figure')"
   ]
  },
  {
   "cell_type": "markdown",
   "metadata": {},
   "source": [
    "### calculate the entropy"
   ]
  },
  {
   "cell_type": "code",
   "execution_count": 3,
   "metadata": {},
   "outputs": [],
   "source": [
    "def __Calculate_Entropy__(probability_dic):\n",
    "    entropy = 0\n",
    "    for value in probability_dic.values():\n",
    "        information = math.log(1/value,2)\n",
    "        entropy = entropy + (value * information)\n",
    "    return entropy"
   ]
  },
  {
   "cell_type": "markdown",
   "metadata": {},
   "source": [
    "### calculate the words match the pattern of five \"grey\""
   ]
  },
  {
   "cell_type": "code",
   "execution_count": 28,
   "metadata": {},
   "outputs": [],
   "source": [
    "def __Calculate_GreyProbability__(exampleWord,wordList):\n",
    "    count = 0\n",
    "    for word in wordList:\n",
    "        for letter in exampleWord:\n",
    "            if(letter in word):\n",
    "                count = count + 1\n",
    "                break\n",
    "            else:\n",
    "                continue\n",
    "    print(\"grey count: \",count)\n",
    "    \n",
    "    print(\"gery probability: \",(len(wordList) - count) / len(wordList))\n",
    "    "
   ]
  },
  {
   "cell_type": "markdown",
   "metadata": {},
   "source": [
    "### calculate the probability distribution of all the possible result"
   ]
  },
  {
   "cell_type": "code",
   "execution_count": 45,
   "metadata": {},
   "outputs": [],
   "source": [
    "def __Calculate_probabilityDistribution__(exampleWord,wordList):\n",
    "    result = []\n",
    "    result_dic = {}\n",
    "\n",
    "    for word in wordList:\n",
    "        feedback = ws.__feedback__(exampleWord,word)\n",
    "        subResult = \"\".join(feedback)\n",
    "\n",
    "        if(result.count(subResult) != 0):\n",
    "            index1 = result.index(subResult)\n",
    "            # key1 = \"result\" + index\n",
    "            result_dic[str(index1)] = result_dic[str(index1)] + 1\n",
    "        else:\n",
    "            result.append(subResult)\n",
    "            index2 = result.index(subResult)\n",
    "            # key2 = \"result\" + index\n",
    "            result_dic[str(index2)] = 1\n",
    "        # print(result_dic)\n",
    "    sortedResult_dic = dict(sorted(result_dic.items(), key=lambda item: item[1],reverse=True))\n",
    "    for key in sortedResult_dic.keys():\n",
    "        sortedResult_dic[key] = (sortedResult_dic[key] / len(wordList))\n",
    "    return sortedResult_dic"
   ]
  },
  {
   "cell_type": "markdown",
   "metadata": {},
   "source": [
    "### the example word \"hello\" , calculate the grey probability and probability distribution of all possible results"
   ]
  },
  {
   "cell_type": "code",
   "execution_count": 55,
   "metadata": {},
   "outputs": [
    {
     "name": "stdout",
     "output_type": "stream",
     "text": [
      "grey count:  10191\n",
      "gery probability:  0.21323245580174477\n"
     ]
    },
    {
     "data": {
      "image/png": "[encoded data removed]",
      "text/plain": [
       "<Figure size 432x288 with 1 Axes>"
      ]
     },
     "metadata": {
      "needs_background": "light"
     },
     "output_type": "display_data"
    }
   ],
   "source": [
    "__Calculate_GreyProbability__(\"hello\",dp.valid_word_list)\n",
    "hellowResult_dic = __Calculate_probabilityDistribution__(\"hello\",dp.valid_word_list)\n",
    "plt.bar(hellowResult_dic.keys(),hellowResult_dic.values())\n",
    "plt.title(\"Distribution of word 'hello'\",fontdict={\"fontname\":\"Calibri\"})\n",
    "disx = plt.gca()\n",
    "disx.get_xaxis().set_visible(False)\n",
    "plt.savefig('figures/distribution_hello.jpg',dpi = 'figure')"
   ]
  },
  {
   "cell_type": "markdown",
   "metadata": {},
   "source": [
    "### the example word \"hello\" , calculate the grey probability and probability distribution of all possible results"
   ]
  },
  {
   "cell_type": "code",
   "execution_count": 56,
   "metadata": {},
   "outputs": [
    {
     "name": "stdout",
     "output_type": "stream",
     "text": [
      "grey count:  11442\n",
      "gery probability:  0.11665251293136725\n"
     ]
    },
    {
     "data": {
      "image/png": "[encoded data removed]",
      "text/plain": [
       "<Figure size 432x288 with 1 Axes>"
      ]
     },
     "metadata": {
      "needs_background": "light"
     },
     "output_type": "display_data"
    }
   ],
   "source": [
    "__Calculate_GreyProbability__(\"sores\",dp.valid_word_list)\n",
    "soresResult_dic = __Calculate_probabilityDistribution__(\"sores\",dp.valid_word_list)\n",
    "plt.bar(soresResult_dic.keys(),soresResult_dic.values())\n",
    "plt.title(\"Distribution of word 'sores'\",fontdict={\"fontname\":\"Calibri\"})\n",
    "disx = plt.gca()\n",
    "disx.get_xaxis().set_visible(False)\n",
    "plt.savefig('figures/distribution_sores.jpg',dpi = 'figure')"
   ]
  },
  {
   "cell_type": "markdown",
   "metadata": {},
   "source": [
    "### Compare entropy of the word \"hello\" and the word \"sores\" "
   ]
  },
  {
   "cell_type": "code",
   "execution_count": 8,
   "metadata": {},
   "outputs": [
    {
     "name": "stdout",
     "output_type": "stream",
     "text": [
      "4.193450424012715\n",
      "5.373021763996928\n"
     ]
    }
   ],
   "source": [
    "helloEntropy = __Calculate_Entropy__(hellowResult_dic)\n",
    "print(helloEntropy)\n",
    "soresEntropy = __Calculate_Entropy__(soresResult_dic)\n",
    "print(soresEntropy)"
   ]
  },
  {
   "cell_type": "code",
   "execution_count": 9,
   "metadata": {},
   "outputs": [],
   "source": [
    "def __PlayRoundDisplay__(roundList,method,title):\n",
    "    round_count = [0] * (max(roundList) + 1)\n",
    "    for times in roundList:\n",
    "        if(round_count[times] != 0):\n",
    "            round_count[times] = round_count[times] + 1\n",
    "        else:\n",
    "            round_count[times] = 1\n",
    "    \n",
    "    # display the result\n",
    "    fig, ax = plt.subplots()\n",
    "\n",
    "    barResult = ax.bar(range(max(roundList) + 1),round_count)\n",
    "    # plt.plot(round_count)\n",
    "    ax.set_title(\"Round distribution of \" +  title,fontdict={\"fontname\":\"Calibri\"})\n",
    "    ax.bar_label(barResult,padding = 1)\n",
    "    if(max(roundList) >= 15):\n",
    "        ax.set_xlim(left = 1, right = 19)\n",
    "    else:\n",
    "        ax.set_xlim(left = 1, right = 13)\n",
    "    # disx = plt.gca()\n",
    "    # disx.get_xaxis().set_visible(False)\n",
    "    plt.savefig('figures/' + method + '_round_' + title + '.jpg',dpi = 'figure')\n",
    "    \n"
   ]
  },
  {
   "cell_type": "markdown",
   "metadata": {},
   "source": [
    "### performance of Letter Frequency"
   ]
  },
  {
   "cell_type": "code",
   "execution_count": 10,
   "metadata": {},
   "outputs": [],
   "source": [
    "pb_wordleAnswerList = pd.read_csv(\"./data/result/probability-wordleAnswerlist.csv\").iloc[:,1]\n",
    "pb_validroundList = pd.read_csv(\"./data/result/probability-validWordList.csv\").iloc[:,1]"
   ]
  },
  {
   "cell_type": "code",
   "execution_count": 11,
   "metadata": {},
   "outputs": [
    {
     "name": "stdout",
     "output_type": "stream",
     "text": [
      "mean of wordle answer list:  6.195\n",
      "success percentage:  0.625\n"
     ]
    },
    {
     "data": {
      "image/png": "[encoded data removed]",
      "text/plain": [
       "<Figure size 432x288 with 1 Axes>"
      ]
     },
     "metadata": {
      "needs_background": "light"
     },
     "output_type": "display_data"
    }
   ],
   "source": [
    "__PlayRoundDisplay__(pb_wordleAnswerList,'pb',\"Wordle answer list\")\n",
    "print(\"mean of wordle answer list: \", round(pb_wordleAnswerList.mean(),3))\n",
    "count = 0\n",
    "for times in pb_wordleAnswerList:\n",
    "    if(times <= 6):\n",
    "        count = count + 1\n",
    "print(\"success percentage: \",round(count / len(pb_wordleAnswerList),3))"
   ]
  },
  {
   "cell_type": "code",
   "execution_count": 12,
   "metadata": {},
   "outputs": [
    {
     "name": "stdout",
     "output_type": "stream",
     "text": [
      "mean of valid words list:  6.568\n",
      "success percentage:  0.551\n"
     ]
    },
    {
     "data": {
      "image/png": "[encoded data removed]",
      "text/plain": [
       "<Figure size 432x288 with 1 Axes>"
      ]
     },
     "metadata": {
      "needs_background": "light"
     },
     "output_type": "display_data"
    }
   ],
   "source": [
    "__PlayRoundDisplay__(pb_validroundList,'pb', \"valid words list\")\n",
    "print(\"mean of valid words list: \", round(pb_validroundList.mean(),3))\n",
    "count = 0\n",
    "for times in pb_validroundList:\n",
    "    if(times <= 6):\n",
    "        count = count + 1\n",
    "print(\"success percentage: \",round(count / len(pb_validroundList), 3))"
   ]
  },
  {
   "cell_type": "markdown",
   "metadata": {},
   "source": [
    "### information theory performance"
   ]
  },
  {
   "cell_type": "code",
   "execution_count": 13,
   "metadata": {},
   "outputs": [],
   "source": [
    "info_wordleAnswerList = pd.read_csv(\"./data/result/information-wordleAnswerlist.csv\").iloc[:,1]\n",
    "info_validroundList = pd.read_csv(\"./data/result/information-validWordList.csv\").iloc[:,1]"
   ]
  },
  {
   "cell_type": "code",
   "execution_count": 14,
   "metadata": {},
   "outputs": [
    {
     "name": "stdout",
     "output_type": "stream",
     "text": [
      "mean of wordle answer list:  4.862\n",
      "success percentage:  0.88\n"
     ]
    },
    {
     "data": {
      "image/png": "[encoded data removed]",
      "text/plain": [
       "<Figure size 432x288 with 1 Axes>"
      ]
     },
     "metadata": {
      "needs_background": "light"
     },
     "output_type": "display_data"
    }
   ],
   "source": [
    "__PlayRoundDisplay__(info_wordleAnswerList,'info',\"Wordle answer list\")\n",
    "print(\"mean of wordle answer list: \", round(info_wordleAnswerList.mean(),3))\n",
    "count = 0\n",
    "for times in info_wordleAnswerList:\n",
    "    if(times <= 6):\n",
    "        count = count + 1\n",
    "print(\"success percentage: \",round(count / len(info_wordleAnswerList),3))"
   ]
  },
  {
   "cell_type": "code",
   "execution_count": 15,
   "metadata": {},
   "outputs": [
    {
     "name": "stdout",
     "output_type": "stream",
     "text": [
      "mean of valid words list:  5.173\n",
      "success percentage:  0.831\n"
     ]
    },
    {
     "data": {
      "image/png": "[encoded data removed]",
      "text/plain": [
       "<Figure size 432x288 with 1 Axes>"
      ]
     },
     "metadata": {
      "needs_background": "light"
     },
     "output_type": "display_data"
    }
   ],
   "source": [
    "__PlayRoundDisplay__(info_validroundList,'info',\"valid words list\")\n",
    "print(\"mean of valid words list: \", round(info_validroundList.mean(),3))\n",
    "count = 0\n",
    "for times in info_validroundList:\n",
    "    if(times <= 6):\n",
    "        count = count + 1\n",
    "print(\"success percentage: \",round(count / len(info_validroundList), 3))"
   ]
  },
  {
   "cell_type": "code",
   "execution_count": null,
   "metadata": {},
   "outputs": [],
   "source": [
    "# validRoundList = info_validroundList.tolist()\n",
    "# index = validRoundList.index(min(validRoundList))\n",
    "# allValidBestCase = dp.valid_word_list[index]\n",
    "# print(allValidBestCase)"
   ]
  },
  {
   "cell_type": "code",
   "execution_count": 81,
   "metadata": {},
   "outputs": [
    {
     "name": "stdout",
     "output_type": "stream",
     "text": [
      "grey count:  197\n",
      "gery probability:  0.0\n",
      "41\n"
     ]
    },
    {
     "data": {
      "image/png": "[encoded data removed]",
      "text/plain": [
       "<Figure size 432x288 with 1 Axes>"
      ]
     },
     "metadata": {
      "needs_background": "light"
     },
     "output_type": "display_data"
    }
   ],
   "source": [
    "alone_potentialList = pd.read_csv(\"./data/result/alone-potentialList.csv\").iloc[:,1].tolist()\n",
    "__Calculate_GreyProbability__(\"alone\",alone_potentialList)\n",
    "aloneResult_dic = __Calculate_probabilityDistribution__(\"alone\",alone_potentialList)\n",
    "xNarry = np.arange(1,42,1)\n",
    "print(len(aloneResult_dic.values()))\n",
    "plt.bar(xNarry,aloneResult_dic.values())\n",
    "plt.title(\"Distribution of word 'alone'\",fontdict={\"fontname\":\"Calibri\"})\n",
    "plt.xlabel('Result bin of \"alone\"')\n",
    "xNarry = np.arange(0,40,5)\n",
    "disx = plt.gca()\n",
    "disx.set_xticks(xNarry)\n",
    "disx.set_xlim(left = 0.5, right = 50)\n",
    "# disx.get_xaxis().set_visible(False)\n",
    "plt.savefig('figures/distribution_alone.jpg',dpi = 'figure')"
   ]
  },
  {
   "cell_type": "code",
   "execution_count": 85,
   "metadata": {},
   "outputs": [
    {
     "name": "stdout",
     "output_type": "stream",
     "text": [
      "4.403776355896567\n",
      "3.536905280347466\n",
      "alone\n"
     ]
    }
   ],
   "source": [
    "aloneEntropyDic = []\n",
    "for word in alone_potentialList:\n",
    "    probabilityDic = __Calculate_probabilityDistribution__(word,alone_potentialList)\n",
    "    entropy = __Calculate_Entropy__(probabilityDic)\n",
    "    aloneEntropyDic.append(entropy)\n",
    "\n",
    "maxEntropy = max(aloneEntropyDic)\n",
    "print(maxEntropy)\n",
    "print(sum(aloneEntropyDic) / len(aloneEntropyDic))\n",
    "index = aloneEntropyDic.index(maxEntropy)\n",
    "selected = alone_potentialList[index]\n",
    "print(selected)\n"
   ]
  },
  {
   "cell_type": "code",
   "execution_count": 86,
   "metadata": {},
   "outputs": [
    {
     "name": "stdout",
     "output_type": "stream",
     "text": [
      "5.727941819867802\n",
      "4.455111005291167\n",
      "crate\n"
     ]
    }
   ],
   "source": [
    "testWordListEntropyDic = []\n",
    "for word in dp.test_word_list:\n",
    "    probabilityDic = __Calculate_probabilityDistribution__(word,dp.test_word_list)\n",
    "    entropy = __Calculate_Entropy__(probabilityDic)\n",
    "    testWordListEntropyDic.append(entropy)\n",
    "\n",
    "maxEntropy = max(testWordListEntropyDic)\n",
    "print(maxEntropy)\n",
    "print(sum(testWordListEntropyDic) / len(testWordListEntropyDic))\n",
    "index = testWordListEntropyDic.index(maxEntropy)\n",
    "selected = dp.test_word_list[index]\n",
    "print(selected)"
   ]
  },
  {
   "cell_type": "code",
   "execution_count": 89,
   "metadata": {},
   "outputs": [
    {
     "name": "stdout",
     "output_type": "stream",
     "text": [
      "6.195594730245378\n",
      "4.55550919081762\n",
      "tares\n"
     ]
    }
   ],
   "source": [
    "validWordEntropyList = []\n",
    "for word in dp.valid_word_list:\n",
    "    validProbabilityDic = __Calculate_probabilityDistribution__(word,dp.valid_word_list)\n",
    "    entropy = __Calculate_Entropy__(validProbabilityDic)\n",
    "    validWordEntropyList.append(entropy)\n",
    "\n",
    "maxEntropy = max(validWordEntropyList)\n",
    "print(maxEntropy)\n",
    "print(sum(validWordEntropyList) / len(validWordEntropyList))\n",
    "index = validWordEntropyList.index(maxEntropy)\n",
    "selected = dp.valid_word_list[index]\n",
    "print(selected)\n",
    "df = pd.DataFrame(validWordEntropyList)\n",
    "df.to_csv(\"./data/result/validEntropyList.csv\")"
   ]
  }
 ],
 "metadata": {
  "interpreter": {
   "hash": "46d134eb557ef08c609e980b92390e3083e10e9de6884d7d452b5ae8f92825d9"
  },
  "kernelspec": {
   "display_name": "Python 3.7.11 ('mle_tf')",
   "language": "python",
   "name": "python3"
  },
  "language_info": {
   "codemirror_mode": {
    "name": "ipython",
    "version": 3
   },
   "file_extension": ".py",
   "mimetype": "text/x-python",
   "name": "python",
   "nbconvert_exporter": "python",
   "pygments_lexer": "ipython3",
   "version": "3.7.11"
  },
  "orig_nbformat": 4
 },
 "nbformat": 4,
 "nbformat_minor": 2
}
