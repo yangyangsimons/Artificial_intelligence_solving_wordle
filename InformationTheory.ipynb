{
 "cells": [
  {
   "cell_type": "code",
   "execution_count": 1,
   "metadata": {},
   "outputs": [],
   "source": [
    "import Wordle_Simulation as ws\n",
    "import Data_Processing as data\n",
    "from string import ascii_lowercase\n",
    "import random\n",
    "import math"
   ]
  },
  {
   "cell_type": "code",
   "execution_count": 2,
   "metadata": {},
   "outputs": [],
   "source": [
    "def __Calculate__Probability__Based__On__Position(wordList):\n",
    "    probabilityList = []\n",
    "    for i in range(5):\n",
    "        probability = {}\n",
    "        totalWord = len(wordList)\n",
    "        for letter in ascii_lowercase:\n",
    "            count = 0\n",
    "            for word in wordList:\n",
    "                if(word[i] == letter ):\n",
    "                    count = count + 1\n",
    "            probability.update({letter: round(count/totalWord,4)}) \n",
    "        probability = {k: v for k, v in sorted(probability.items(), key=lambda item: item[1], reverse= True)}    \n",
    "        probabilityList.append(probability)\n",
    "    return probabilityList\n"
   ]
  },
  {
   "cell_type": "code",
   "execution_count": 3,
   "metadata": {},
   "outputs": [],
   "source": [
    "def __Calculate__Entropy__(wordList,probabilityList):\n",
    "    entropyList = []\n",
    "    for word in wordList:\n",
    "        entropy = 0\n",
    "        for i in range(len(word)):\n",
    "            probability = probabilityList[i][word[i]]\n",
    "            information = math.log(1/probability,2)\n",
    "            entropy = entropy + probability * information\n",
    "\n",
    "        entropyList.append(entropy)\n",
    "    # print(len(entropyList))\n",
    "    selectedWord = wordList[entropyList.index(max(entropyList))]\n",
    "    # print(word)\n",
    "    return selectedWord\n"
   ]
  },
  {
   "cell_type": "code",
   "execution_count": 9,
   "metadata": {},
   "outputs": [
    {
     "name": "stdout",
     "output_type": "stream",
     "text": [
      "goose\n",
      "sores\n",
      "['yellow', 'green', 'grey', 'yellow', 'yellow']\n"
     ]
    }
   ],
   "source": [
    "probabilityList = __Calculate__Probability__Based__On__Position(data.valid_word_list)\n",
    "\n",
    "selectedWord = __Calculate__Entropy__(data.valid_word_list,probabilityList)\n",
    "objectWord = objectWord = ObjectWord = random.choice(data.test_word_list)\n",
    "guessResult = ws.__feedback__(selectedWord,objectWord)\n",
    "print(objectWord)\n",
    "print(selectedWord)\n",
    "print(guessResult)"
   ]
  },
  {
   "cell_type": "code",
   "execution_count": 10,
   "metadata": {},
   "outputs": [],
   "source": [
    "def __Set__New__Word__List__(selectedWord,feedback,word_list):\n",
    "    yellow_dic = {}\n",
    "    green_dic = {}\n",
    "    grey_dic = {}\n",
    "    for i in range(len(feedback)):\n",
    "        if(feedback[i] == \"yellow\"):\n",
    "            yellow_dic.update({i:selectedWord[i]})\n",
    "        if(feedback[i] == \"green\"):\n",
    "            green_dic.update({i:selectedWord[i]})\n",
    "        if(feedback[i] == \"grey\"):\n",
    "            grey_dic.update({i:selectedWord[i]})\n",
    "    # calculate the new valid word list based on the feedback\n",
    "    new_valid_list = []\n",
    "    for word in word_list:\n",
    "        letter_status = []\n",
    "        for index,letter in yellow_dic.items():\n",
    "            if(word.find(letter) != -1 and word[index] != letter):\n",
    "                letter_status.append(True)\n",
    "            else:\n",
    "                letter_status.append(False)\n",
    "        for index in green_dic.keys():\n",
    "            if(word[index] == green_dic[index]):\n",
    "                letter_status.append(True)\n",
    "            else:\n",
    "                letter_status.append(False)\n",
    "        for letter in grey_dic.values():\n",
    "            if(word.find(letter) == -1):\n",
    "                letter_status.append(True)\n",
    "            else:\n",
    "                letter_status.append(False)\n",
    "        if(all(letter_status)):\n",
    "            new_valid_list.append(word)\n",
    "            continue\n",
    "        else:\n",
    "            continue\n",
    "    return new_valid_list\n"
   ]
  },
  {
   "cell_type": "code",
   "execution_count": 11,
   "metadata": {},
   "outputs": [
    {
     "name": "stdout",
     "output_type": "stream",
     "text": [
      "34\n",
      "goose\n",
      "bosie\n",
      "['grey', 'green', 'yellow', 'grey', 'green']\n"
     ]
    }
   ],
   "source": [
    "wordList = __Set__New__Word__List__(selectedWord,guessResult,data.valid_word_list)\n",
    "probabilityList = __Calculate__Probability__Based__On__Position(wordList)\n",
    "selectedWord = __Calculate__Entropy__(wordList,probabilityList)\n",
    "# objectWord = objectWord = ObjectWord = random.choice(data.test_word_list)\n",
    "guessResult = ws.__feedback__(selectedWord,objectWord)\n",
    "print(len(wordList))\n",
    "print(objectWord)\n",
    "print(selectedWord)\n",
    "print(guessResult)\n"
   ]
  },
  {
   "cell_type": "code",
   "execution_count": 12,
   "metadata": {},
   "outputs": [
    {
     "name": "stdout",
     "output_type": "stream",
     "text": [
      "16\n",
      "goose\n",
      "louse\n",
      "['grey', 'green', 'grey', 'green', 'green']\n"
     ]
    }
   ],
   "source": [
    "wordList = __Set__New__Word__List__(selectedWord,guessResult,wordList)\n",
    "probabilityList = __Calculate__Probability__Based__On__Position(wordList)\n",
    "selectedWord = __Calculate__Entropy__(wordList,probabilityList)\n",
    "# objectWord = objectWord = ObjectWord = random.choice(data.test_word_list)\n",
    "guessResult = ws.__feedback__(selectedWord,objectWord)\n",
    "print(len(wordList))\n",
    "print(objectWord)\n",
    "print(selectedWord)\n",
    "print(guessResult)"
   ]
  },
  {
   "cell_type": "code",
   "execution_count": 13,
   "metadata": {},
   "outputs": [
    {
     "name": "stdout",
     "output_type": "stream",
     "text": [
      "8\n",
      "goose\n",
      "dowse\n",
      "['grey', 'green', 'grey', 'green', 'green']\n"
     ]
    }
   ],
   "source": [
    "wordList = __Set__New__Word__List__(selectedWord,guessResult,wordList)\n",
    "probabilityList = __Calculate__Probability__Based__On__Position(wordList)\n",
    "selectedWord = __Calculate__Entropy__(wordList,probabilityList)\n",
    "# objectWord = objectWord = ObjectWord = random.choice(data.test_word_list)\n",
    "guessResult = ws.__feedback__(selectedWord,objectWord)\n",
    "print(len(wordList))\n",
    "print(objectWord)\n",
    "print(selectedWord)\n",
    "print(guessResult)"
   ]
  }
 ],
 "metadata": {
  "interpreter": {
   "hash": "6ec95552a5c4b0beabfc8353e76121349e0f83cd731836c7406f22566a01da8d"
  },
  "kernelspec": {
   "display_name": "Python 3.10.0 ('DIA')",
   "language": "python",
   "name": "python3"
  },
  "language_info": {
   "codemirror_mode": {
    "name": "ipython",
    "version": 3
   },
   "file_extension": ".py",
   "mimetype": "text/x-python",
   "name": "python",
   "nbconvert_exporter": "python",
   "pygments_lexer": "ipython3",
   "version": "3.10.0"
  },
  "orig_nbformat": 4
 },
 "nbformat": 4,
 "nbformat_minor": 2
}
