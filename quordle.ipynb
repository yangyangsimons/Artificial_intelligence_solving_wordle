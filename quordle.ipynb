{
 "cells": [
  {
   "cell_type": "code",
   "execution_count": 4,
   "metadata": {},
   "outputs": [],
   "source": [
    "import Wordle_Simulation as ws\n",
    "import Data_Processing as data\n",
    "from string import ascii_lowercase\n",
    "import random\n",
    "import math\n",
    "import re"
   ]
  },
  {
   "cell_type": "code",
   "execution_count": 5,
   "metadata": {},
   "outputs": [],
   "source": [
    "def __Calculate_Weight__(selectedWord,feedback,word_list):\n",
    "    # combine words in order to fit the length of feedback\n",
    "    selectedWord = selectedWord + selectedWord + selectedWord + selectedWord\n",
    "    yellow_dic = {}\n",
    "    green_dic = {}\n",
    "    grey_dic = {}\n",
    "    for i in range(len(feedback)):\n",
    "        if(feedback[i] == \"yellow\"):\n",
    "            yellow_dic.update({i:selectedWord[i]})\n",
    "        if(feedback[i] == \"green\"):\n",
    "            green_dic.update({i:selectedWord[i]})\n",
    "        if(feedback[i] == \"grey\"):\n",
    "            grey_dic.update({i:selectedWord[i]})\n",
    "    # calculate the new valid word list based on the feedback\n",
    "    weightList = []\n",
    "    \n",
    "    for word in word_list:\n",
    "        weight = 0\n",
    "        for index in range(len(word)):\n",
    "            greyWeight = [grey_dic.values()].count(word[index])\n",
    "            yellowWeight = [yellow_dic.values()].count(word[index])\n",
    "            greenWeight = [green_dic.values()].count(word[index])\n",
    "            weight = weight + int(greyWeight) * 0 + int(yellowWeight) * 1 + int(greenWeight) * 2\n",
    "        weightList.append(weight)\n",
    "    return weightList"
   ]
  },
  {
   "cell_type": "code",
   "execution_count": 6,
   "metadata": {},
   "outputs": [],
   "source": [
    "# first calculate the probability p(x)\n",
    "wordList = data.test_word_list\n",
    "feedback = [\"grey\",\"grey\",\"grey\",\"yellow\",\"green\",\"grey\",\"grey\",\"grey\",\"green\",\"grey\",\"grey\",\"grey\",\"grey\",\"grey\",\"grey\",\"yellow\",\"grey\",\"grey\",\"grey\",\"grey\"]\n",
    "weightList = __Calculate_Weight__(\"sores\",feedback,wordList)\n",
    "probabilityList = []\n",
    "for i in range(5):\n",
    "    probabilities = {}\n",
    "    totalWord = len(wordList)\n",
    "    for letter in ascii_lowercase:\n",
    "        count = 0\n",
    "        for word in wordList:\n",
    "            if(word[i] == letter):\n",
    "                count = count + 1\n",
    "        probabilities.update({letter : round(count/totalWord,4)}) \n",
    "    probabilities = {k: v for k, v in sorted(probabilities.items(), key=lambda item: item[1], reverse= True)}    \n",
    "    probabilityList.append(probabilities)\n",
    "# calculate the entropy based on probabilities\n",
    "entropyList = []\n",
    "for listIndex in range(len(wordList)):\n",
    "    entropy = 0\n",
    "    for j in range(len(wordList[listIndex])):\n",
    "        probability = probabilityList[j][wordList[listIndex][j]]\n",
    "        # print(probability)\n",
    "        information = math.log(1/probability,2)\n",
    "        entropy = entropy + (probability * information)\n",
    "    # print(weightList[listIndex])\n",
    "    entropy = entropy * weightList[listIndex]\n",
    "    entropyList.append(entropy)\n",
    "# print(entropyList)"
   ]
  },
  {
   "cell_type": "code",
   "execution_count": 7,
   "metadata": {},
   "outputs": [],
   "source": [
    "# select the word based on highest entropy\n",
    "def __selectWord__(wordList,entropyList,):\n",
    "    selectedWord = wordList[entropyList.index(max(entropyList))]\n",
    "    return selectedWord"
   ]
  },
  {
   "cell_type": "code",
   "execution_count": 8,
   "metadata": {},
   "outputs": [
    {
     "name": "stdout",
     "output_type": "stream",
     "text": [
      "cigar\n"
     ]
    }
   ],
   "source": [
    "selctedWord = __selectWord__(wordList,entropyList)\n",
    "print(selctedWord)"
   ]
  }
 ],
 "metadata": {
  "interpreter": {
   "hash": "46d134eb557ef08c609e980b92390e3083e10e9de6884d7d452b5ae8f92825d9"
  },
  "kernelspec": {
   "display_name": "Python 3.7.11 ('mle_tf')",
   "language": "python",
   "name": "python3"
  },
  "language_info": {
   "codemirror_mode": {
    "name": "ipython",
    "version": 3
   },
   "file_extension": ".py",
   "mimetype": "text/x-python",
   "name": "python",
   "nbconvert_exporter": "python",
   "pygments_lexer": "ipython3",
   "version": "3.7.11"
  },
  "orig_nbformat": 4
 },
 "nbformat": 4,
 "nbformat_minor": 2
}
