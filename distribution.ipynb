{
 "cells": [
  {
   "cell_type": "code",
   "execution_count": 4,
   "metadata": {},
   "outputs": [],
   "source": [
    "from nltk.corpus import words"
   ]
  },
  {
   "cell_type": "code",
   "execution_count": 8,
   "metadata": {},
   "outputs": [
    {
     "data": {
      "text/plain": [
       "10422"
      ]
     },
     "execution_count": 8,
     "metadata": {},
     "output_type": "execute_result"
    }
   ],
   "source": [
    "validWord = []\n",
    "len(words.words())\n",
    "for word in words.words():\n",
    "    if(len(word) == 5):\n",
    "        validWord.append(word)\n",
    "len(validWord)"
   ]
  }
 ],
 "metadata": {
  "interpreter": {
   "hash": "46d134eb557ef08c609e980b92390e3083e10e9de6884d7d452b5ae8f92825d9"
  },
  "kernelspec": {
   "display_name": "Python 3.7.11 ('mle_tf')",
   "language": "python",
   "name": "python3"
  },
  "language_info": {
   "codemirror_mode": {
    "name": "ipython",
    "version": 3
   },
   "file_extension": ".py",
   "mimetype": "text/x-python",
   "name": "python",
   "nbconvert_exporter": "python",
   "pygments_lexer": "ipython3",
   "version": "3.7.11"
  },
  "orig_nbformat": 4
 },
 "nbformat": 4,
 "nbformat_minor": 2
}
