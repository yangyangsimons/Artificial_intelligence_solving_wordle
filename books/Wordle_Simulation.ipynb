{
 "cells": [
  {
   "cell_type": "code",
   "execution_count": 1,
   "metadata": {},
   "outputs": [],
   "source": [
    "import Data_Processing as data\n",
    "import termcolor as colored\n",
    "import random"
   ]
  },
  {
   "cell_type": "code",
   "execution_count": 2,
   "metadata": {},
   "outputs": [
    {
     "data": {
      "text/plain": [
       "'FAVOR'"
      ]
     },
     "execution_count": 2,
     "metadata": {},
     "output_type": "execute_result"
    }
   ],
   "source": [
    "targetWord = random.choice(data.testWords)  \n",
    "targetWord"
   ]
  },
  {
   "cell_type": "code",
   "execution_count": 3,
   "metadata": {},
   "outputs": [],
   "source": [
    "def __validWord__(answer):\n",
    "    if(len(answer) > 5):\n",
    "        print(\"5 letters only\")\n",
    "        return False\n",
    "    else:\n",
    "        if(answer in data.allWords):\n",
    "            return True\n",
    "        else:\n",
    "            print(\"This is not a valid word\")\n",
    "            return False"
   ]
  },
  {
   "cell_type": "code",
   "execution_count": 16,
   "metadata": {},
   "outputs": [],
   "source": [
    "\n",
    "def __feedback__(userWord, targetWord):\n",
    "    validWord = __validWord__(userWord)\n",
    "    color = []\n",
    "    if(validWord):\n",
    "    \n",
    "        for i in range(len(targetWord)):\n",
    "            # check if this letter is in target word\n",
    "            if(userWord[i] in targetWord):\n",
    "                if (userWord[i] == targetWord[i]):\n",
    "                    color.append(\"green\")\n",
    "                else:\n",
    "                    color.append(\"yellow\")\n",
    "            else:\n",
    "                color.append(\"grey\")\n",
    "    return color"
   ]
  },
  {
   "cell_type": "code",
   "execution_count": 17,
   "metadata": {},
   "outputs": [],
   "source": [
    "# userInput = input(\"please input a five letter word\")"
   ]
  },
  {
   "cell_type": "code",
   "execution_count": 18,
   "metadata": {},
   "outputs": [
    {
     "name": "stdout",
     "output_type": "stream",
     "text": [
      "['grey', 'grey', 'grey', 'grey', 'grey']\n"
     ]
    }
   ],
   "source": [
    "# feedback = __feedback__(userInput,targetWord)\n",
    "# print(feedback)"
   ]
  }
 ],
 "metadata": {
  "interpreter": {
   "hash": "6ec95552a5c4b0beabfc8353e76121349e0f83cd731836c7406f22566a01da8d"
  },
  "kernelspec": {
   "display_name": "Python 3.10.0 ('DIA')",
   "language": "python",
   "name": "python3"
  },
  "language_info": {
   "codemirror_mode": {
    "name": "ipython",
    "version": 3
   },
   "file_extension": ".py",
   "mimetype": "text/x-python",
   "name": "python",
   "nbconvert_exporter": "python",
   "pygments_lexer": "ipython3",
   "version": "3.10.0"
  },
  "orig_nbformat": 4
 },
 "nbformat": 4,
 "nbformat_minor": 2
}
