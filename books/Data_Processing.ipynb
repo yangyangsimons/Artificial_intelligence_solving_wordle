{
 "cells": [
  {
   "cell_type": "markdown",
   "metadata": {},
   "source": [
    "# This class is used for data processing"
   ]
  },
  {
   "cell_type": "code",
   "execution_count": 2,
   "metadata": {},
   "outputs": [],
   "source": [
    "import pandas as pd\n",
    "from string import ascii_lowercase"
   ]
  },
  {
   "cell_type": "code",
   "execution_count": 3,
   "metadata": {},
   "outputs": [
    {
     "data": {
      "text/plain": [
       "12953"
      ]
     },
     "execution_count": 3,
     "metadata": {},
     "output_type": "execute_result"
    }
   ],
   "source": [
    "data1 = pd.read_csv(\"/Users/lynnyang/work/wordle/data/allowed_words.txt\",header=None)\n",
    "data2 = pd.read_csv(\"/Users/lynnyang/work/wordle/data/2021_2022_answer_list.csv\")\n",
    "testWords = list(data2[\"Answer\"])\n",
    "allWords = list(data1[0])\n",
    "len(allWords)"
   ]
  },
  {
   "cell_type": "code",
   "execution_count": 15,
   "metadata": {},
   "outputs": [],
   "source": [
    "valid_word_list = []\n",
    "sorted_word_list = []\n",
    "for word in allWords:\n",
    "    if (len(word)== 5):\n",
    "# if the word has an uppercase letter, then ignore the whole word.\n",
    "        if(any(letter.isupper() for letter in word)):\n",
    "            continue\n",
    "        else:\n",
    "# sort the word in alphabet order, for example \"sample\" will sorted as \"aelmps\", this is used in the later function;\n",
    "            sorted_word = \"\".join(sorted(word))\n",
    "# add all the word length equals 5 into the valid_word_list and the sorted word into sorted_word_list;\n",
    "            valid_word_list.append(word)\n",
    "            sorted_word_list.append(sorted_word)\n",
    "\n"
   ]
  }
 ],
 "metadata": {
  "interpreter": {
   "hash": "46d134eb557ef08c609e980b92390e3083e10e9de6884d7d452b5ae8f92825d9"
  },
  "kernelspec": {
   "display_name": "Python 3.7.11 ('mle_tf')",
   "language": "python",
   "name": "python3"
  },
  "language_info": {
   "codemirror_mode": {
    "name": "ipython",
    "version": 3
   },
   "file_extension": ".py",
   "mimetype": "text/x-python",
   "name": "python",
   "nbconvert_exporter": "python",
   "pygments_lexer": "ipython3",
   "version": "3.7.11"
  },
  "orig_nbformat": 4
 },
 "nbformat": 4,
 "nbformat_minor": 2
}
