{
 "cells": [
  {
   "cell_type": "code",
   "execution_count": 1,
   "metadata": {},
   "outputs": [],
   "source": [
    "from PIL import ImageGrab\n",
    "import keyboard as kb\n",
    "import time \n",
    "\n",
    "def __ScreenShot__(top):\n",
    "    screenShot = ImageGrab.grab(bbox=(1100, top, 1780, top + 135))\n",
    "    screenShot.save(\"data/screenshot/img2.png\") "
   ]
  },
  {
   "cell_type": "code",
   "execution_count": 2,
   "metadata": {},
   "outputs": [
    {
     "name": "stderr",
     "output_type": "stream",
     "text": [
      "Exception in thread Thread-8:\n",
      "Traceback (most recent call last):\n",
      "  File \"/Users/lynnyang/opt/anaconda3/envs/mle_tf/lib/python3.7/threading.py\", line 926, in _bootstrap_inner\n",
      "    self.run()\n",
      "  File \"/Users/lynnyang/opt/anaconda3/envs/mle_tf/lib/python3.7/threading.py\", line 870, in run\n",
      "    self._target(*self._args, **self._kwargs)\n",
      "  File \"/Users/lynnyang/opt/anaconda3/envs/mle_tf/lib/python3.7/site-packages/keyboard/__init__.py\", line 294, in listen\n",
      "    _os_keyboard.listen(self.direct_callback)\n",
      "  File \"/Users/lynnyang/opt/anaconda3/envs/mle_tf/lib/python3.7/site-packages/keyboard/_darwinkeyboard.py\", line 430, in listen\n",
      "    raise OSError(\"Error 13 - Must be run as administrator\")\n",
      "OSError: Error 13 - Must be run as administrator\n",
      "\n"
     ]
    }
   ],
   "source": [
    "\n",
    "    top = 425\n",
    "    top = top + 1 * 135\n",
    "    kb.wait('enter')\n",
    "    print(\"please wait for 3 seconds\")\n",
    "    time.sleep(2)\n",
    "    __ScreenShot__(top)"
   ]
  }
 ],
 "metadata": {
  "interpreter": {
   "hash": "46d134eb557ef08c609e980b92390e3083e10e9de6884d7d452b5ae8f92825d9"
  },
  "kernelspec": {
   "display_name": "Python 3.7.11 ('mle_tf')",
   "language": "python",
   "name": "python3"
  },
  "language_info": {
   "codemirror_mode": {
    "name": "ipython",
    "version": 3
   },
   "file_extension": ".py",
   "mimetype": "text/x-python",
   "name": "python",
   "nbconvert_exporter": "python",
   "pygments_lexer": "ipython3",
   "version": "3.7.11"
  },
  "orig_nbformat": 4
 },
 "nbformat": 4,
 "nbformat_minor": 2
}
